#Import library
import random
#Declared Constant Variables
population_size = 5
num_generations = 100
mutation_rate = 0.1
#Defined Fitness Function
def fitness_function(x):
return x*x
#Generate Random population
population = [random.randrange(31) for _ in range(population_size)]
print(population)
#Covert Random population decimal to binary
def convertBinary(num):
res = [int(i) for i in list('{0:05b}'.format(num))]
print("The converted binary list is : " + str(res))
return res
res_list = []
for i in range(len(population)):
res_list.append(convertBinary(population[i]))
#Evaluate Random population’s fitness values
def evaluate_population(population):

return [fitness_function(individual) for individual in population]
scores = evaluate_population(population)
print(scores)
#Select Parents
def select_parents(population, scores):
population_fitness = sum(scores)
chromosome_probabilities = [scores[i] / population_fitness for i in range(len(scores))]
parent_indices = random.choices(range(len(population)), weights=chromosome_probabilities, k=2)
return parent_indices
parents = select_parents(population, scores)
print(parents)
c = []
#Performing Crossover
def crossover(res_list, parent_indices):
one = parent_indices[0]
two = parent_indices[1]
point = random.randrange(0, len(res_list[0]))
child1 = res_list[one][:point] + res_list[two][point:]
child2 = res_list[two][:point] + res_list[one][point:]
print(child1)
print(child2)
c.append(child1)
c.append(child2)
parent_indices = parents
crossover(res_list, parent_indices)
print(res_list)
#Performing Mutation
def mutate(child, mutation_rate):
mutated_child = []
for bit in child:
if random.random() < mutation_rate:
mutated_bit = 1 - bit # Flipping the bit
else:

mutated_bit = bit
mutated_child.append(mutated_bit)
return mutated_child
c[0] = mutate(c[0], mutation_rate) # Corrected line
c[1] = mutate(c[1], mutation_rate) # Corrected line
for i in range(len(c)):
print(c[i])
decimalValue = []
#Evaluate the fitness values of Offsprings
def fitnessEvaluationOffSpring(binary):
decimal = 0
for digit in binary:
decimal = (decimal << 1) | int(digit)
decimalValue.append(decimal)
for i in range(len(c)):
fitnessEvaluationOffSpring(c[i])
print(decimalValue)
OffspringScores = evaluate_population(decimalValue)
print(OffspringScores)
#Replace Parents-Offsprings
def replacement():
global res_list
print("parents:", parents)
print("OffspringScores:", OffspringScores)
print("scores:", scores)
print("\n")
if OffspringScores[0] > scores[parents[0]]:
res_list.pop(parents[0])
res_list.insert(parents[0], c[0])
if OffspringScores[1] > scores[parents[1]]:
res_list.pop(parents[1])
res_list.insert(parents[1], c[1])

replacement()
for s in res_list:
print(*s)
decimalValue = []
def fitnessEvaluationOffSpring(binary):
decimal = 0
for digit in binary:
decimal = (decimal << 1) | int(digit)
decimalValue.append(decimal)
for i in range(len(res_list)):
fitnessEvaluationOffSpring(res_list[i])
print(decimalValue)
newScores = evaluate_population(decimalValue)
print(newScores)
#Define Genetic Algorithm Function
def genetic_algorithm(res_list, population_size, num_generations, mutation_rate):
for generation in range(num_generations):
# Step 2: Evaluation
decimal_population = [int(''.join(map(str, individual)), 2) for individual in res_list]
scores = evaluate_population(decimal_population)
# Step 3: Selection
parents = select_parents(res_list, scores)
# Step 4: Crossover
crossover(res_list, parents)
# Step 5: Mutation
for i in range(len(c)):
c[i] = mutate(c[i], mutation_rate)
decimal_children = [int(''.join(map(str, child)), 2) for child in c]
offspring_scores = evaluate_population(decimal_children)
weakest_index = scores.index(min(scores))
strongest_index = offspring_scores.index(max(offspring_scores))
res_list[weakest_index] = c[strongest_index]
return res_list[0]

# Call the Genetic Algorithm function
best_binary_individual = genetic_algorithm(res_list, population_size, num_generations,
mutation_rate)
best_decimal_individual = int(''.join(map(str, best_binary_individual)), 2)
best_fitness = fitness_function(best_decimal_individual)
print("Best individual (binary):", best_binary_individual)
print("Best individual (decimal):", best_decimal_individual)
print("Best fitness:", best_fitness)